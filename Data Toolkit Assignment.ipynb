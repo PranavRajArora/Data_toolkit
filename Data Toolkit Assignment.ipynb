{
 "cells": [
  {
   "cell_type": "raw",
   "id": "92cd0a68-f8e6-417f-9e46-fcc2043f96a4",
   "metadata": {},
   "source": [
    "#Q.1. A What is NumPy, and why is it widely used in Python?\n",
    "A.1. NumPy, short for Numerical Python, is a library in Python used for efficient numerical and scientific computing. It provides support for multi-dimensional arrays (ndarrays) and a vast collection of high-level mathematical functions to operate on these arrays. NumPy is widely used because it allows fast, memory-efficient operations on large datasets, enabling tasks like matrix manipulation, statistical calculations, and linear algebra operations to be performed with ease."
   ]
  },
  {
   "cell_type": "raw",
   "id": "5a94acdf-501c-4b91-a465-bad075966d3b",
   "metadata": {},
   "source": [
    "#Q.2. How does broadcasting work in NumPy?\n",
    "A.2. In NumPy, broadcasting is a powerful feature that allows arithmetic operations on arrays of different shapes and sizes without explicitly reshaping them. When performing operations like addition, subtraction, or multiplication between arrays, NumPy automatically expands (or \"broadcasts\") the smaller array so that it matches the shape of the larger array—without actually copying data. Broadcasting makes the code faster, cleaner, and more memory-efficient by avoiding explicit loops and unnecessary array duplication."
   ]
  },
  {
   "cell_type": "raw",
   "id": "d6824127-9739-4ca6-8155-64b0c9e1223d",
   "metadata": {},
   "source": [
    "Q.3.  What is a Pandas DataFrame?\n",
    "A.3. A Pandas DataFrame is a two-dimensional, tabular data structure in Python, provided by the Pandas library. It is similar to a spreadsheet and is designed for data manipulation and analysis. Each column in a DataFrame can hold data of different types (e.g., integers, floats, strings), and it comes with labeled rows (index) and columns (headers), making data easy to access and work with."
   ]
  },
  {
   "cell_type": "raw",
   "id": "f0691941-d3a8-487d-b25f-3209070b0629",
   "metadata": {},
   "source": [
    "Q.4. Explain the use of the groupby() method in Pandas?\n",
    "A.4. The groupby() method in Pandas is used to split data into groups based on one or more columns, and then apply aggregate functions (like sum(), mean(), count(), etc.) to each group. It follows a split-apply-combine strategy: split the data into groups, apply a function to each group, and combine the results into a new DataFrame or Series.\n",
    "\n",
    "This is particularly useful for data analysis tasks like summarizing, comparing, or transforming grouped data (e.g., calculating average sales by region or total revenue per category)."
   ]
  },
  {
   "cell_type": "raw",
   "id": "50e30232-f60b-431c-b874-b0f36e1ba746",
   "metadata": {},
   "source": [
    "Q.5. Why is Seaborn preferred for statistical visualizations?\n",
    "A.5. Seaborn is preferred for statistical visualizations in Python because it is built on top of Matplotlib and provides a high-level interface for creating attractive and informative statistical graphics with minimal code. It is specifically designed to make it easier to explore and understand data patterns, relationships, and distributions.\n",
    "Reasons Why Seaborn Is Preferred:\n",
    "1. Built-in Statistical Plots: Seaborn includes ready-to-use plots like boxplot, violinplot, pairplot, heatmap, and lmplot for regression analysis.\n",
    "\n",
    "2. Simplified Syntax: You can create complex visualizations with just a few lines of code.\n",
    "\n",
    "3. Automatic Aesthetics: Seaborn comes with beautiful default styles and color palettes, improving the visual appeal of plots.\n",
    "\n",
    "4. Works Well with Pandas: It integrates seamlessly with Pandas DataFrames, allowing direct plotting using column names"
   ]
  },
  {
   "cell_type": "raw",
   "id": "051a3d70-1e25-4896-b914-e678769b17e4",
   "metadata": {},
   "source": [
    "Q.6. What are the differences between NumPy arrays and Python lists?\n",
    "A.6. NumPy arrays and Python lists are both used to store collections of data, but they differ significantly in functionality and performance. NumPy arrays are homogeneous, meaning all elements must be of the same data type, which allows for faster computation and lower memory usage whereas, Python lists are heterogeneous, capable of storing elements of different types, but are slower and less efficient for numerical operations. NumPy arrays support vectorized operations, enabling complex mathematical calculations without explicit loops, while Python lists require manual iteration for such tasks. Additionally, NumPy arrays offer advanced features like broadcasting, multidimensional slicing, and seamless integration with data science libraries, making them far more suitable for scientific and numerical computing."
   ]
  },
  {
   "cell_type": "raw",
   "id": "659afe31-54f7-4725-9870-f8d15b45868c",
   "metadata": {},
   "source": [
    "Q.7. What is a heatmap, and when should it be used?\n",
    "A.7. A heatmap is a data visualization technique that uses color to represent the magnitude of values in a two-dimensional matrix or table. Each cell in the heatmap corresponds to a value, with the color intensity indicating the size or significance of that value. Heatmaps are particularly useful for identifying patterns, correlations, and anomalies in datasets, especially when dealing with large amounts of data.\n",
    "\n",
    "They are commonly used in scenarios such as:\n",
    "\n",
    "Visualizing correlation matrices to understand relationships between variables,\n",
    "\n",
    "Displaying missing data patterns in a dataset,\n",
    "\n",
    "Representing confusion matrices in classification problems,\n",
    "\n",
    "Analyzing user behavior on web pages or apps (e.g., click heatmaps).\n"
   ]
  },
  {
   "cell_type": "raw",
   "id": "d95f9a5e-7653-482f-a6d9-8353760293c5",
   "metadata": {},
   "source": [
    "Q.8. What does the term “vectorized operation” mean in NumPy?\n",
    "A.8. A vectorized operation in NumPy refers to performing operations on entire arrays (vectors, matrices, etc.) without using explicit loops. Instead of processing each element one at a time with for loops (as in standard Python), NumPy applies operations to whole arrays at once, leveraging fast, low-level implementations in C. This makes vectorized operations much faster and more efficient."
   ]
  },
  {
   "cell_type": "raw",
   "id": "7083984f-9e3e-46ad-a9ba-adf91624e8fe",
   "metadata": {},
   "source": [
    "Q.9. How does Matplotlib differ from Plotly?\n",
    "A.9. Matplotlib and Plotly are both popular Python libraries for data visualization, but they differ in several key ways. Matplotlib is a mature, widely-used library that creates static, highly customizable plots and charts, making it ideal for publication-quality figures and detailed control over every plot element. It works well in scripts and notebooks but typically produces static images unless combined with other tools. On the other hand, Plotly focuses on creating interactive, web-based visualizations that allow users to zoom, hover, and explore data dynamically. Plotly’s syntax is generally simpler for creating interactive charts, and it integrates well with web applications and dashboards. While Matplotlib excels in flexibility and fine-tuning static graphics, Plotly is preferred when interactivity and user engagement are important.\n"
   ]
  },
  {
   "cell_type": "raw",
   "id": "787a3045-e665-4d33-b9c7-1329c2a26eed",
   "metadata": {},
   "source": [
    "Q.10. What is the significance of hierarchical indexing in Pandas?\n",
    "\n",
    "A.10. The significance of hierarchical indexing lies in its ability to:\n",
    "\n",
    "1.Simplify data representation by grouping related data under multiple index levels,\n",
    "\n",
    "2. Enable powerful data selection and slicing based on multiple criteria,\n",
    "\n",
    "3. Facilitate aggregation, reshaping, and pivoting operations across different levels of the index,\n",
    "\n",
    "4. Improve the handling of panel data or time series with multiple grouping factors.\n"
   ]
  },
  {
   "cell_type": "raw",
   "id": "e396113f-e1eb-4d5b-92c3-7ba4bcccd52b",
   "metadata": {},
   "source": [
    "Q.11. What is the role of Seaborn’s pairplot() function?\n",
    "A.11. The pairplot() function in Seaborn is used to create a matrix of scatter plots that shows pairwise relationships between numerical variables in a dataset. It also optionally includes histograms or kernel density plots on the diagonals to show the distribution of each variable. This function is especially useful for exploratory data analysis (EDA), as it helps quickly identify patterns, correlations, clusters, or outliers across multiple variables.\n",
    "By default, pairplot() uses different colors (hue) to distinguish categories in a categorical column, making it easy to compare relationships across groups."
   ]
  },
  {
   "cell_type": "raw",
   "id": "f1e14b8d-9a47-41cd-864e-52cce43a433a",
   "metadata": {},
   "source": [
    "Q.12. A What is the purpose of the describe() function in Pandas?\n",
    "A.12. The describe() function in Pandas is used to generate summary statistics of a DataFrame or Series. It provides a quick overview of the central tendency, dispersion, and distribution of numerical data. By default, it includes statistics such as count, mean, standard deviation, minimum, 25th percentile (Q1), median (Q2), 75th percentile (Q3), and maximum.\n",
    "\n",
    "This function is especially useful during exploratory data analysis (EDA) to understand the basic structure and spread of the data. For categorical data (if specified), it returns statistics like count, unique values, top value, and frequency."
   ]
  },
  {
   "cell_type": "raw",
   "id": "000bf09b-75fb-4342-9fe5-8ffb85c99463",
   "metadata": {},
   "source": [
    "Q.13. Why is handling missing data important in Pandas?\n",
    "A.13. Handling missing data in Pandas is important because missing or incomplete values can distort analysis, lead to incorrect conclusions, or cause errors in data processing and machine learning models. Real-world datasets often have gaps due to errors in data collection, merging issues, or unavailable information. If not properly handled, these gaps can affect operations like aggregations, statistical computations, or model training.\n",
    "\n",
    "Pandas provides powerful tools such as isnull(), dropna(), and fillna() to identify, remove, or impute missing values. Properly managing missing data ensures data integrity, improves the accuracy of analysis, and allows for more robust and reliable decision-making in data-driven projects."
   ]
  },
  {
   "cell_type": "raw",
   "id": "c20aed39-470b-4803-8a85-3a730d4ef8e0",
   "metadata": {},
   "source": [
    "Q.14. What are the benefits of using Plotly for data visualization?\n",
    "A.14. Key Benefits of Using Plotly:\n",
    "1. Interactivity: Charts are interactive by default, enhancing data exploration and understanding.\n",
    "\n",
    "2. Ease of Use: Simple and intuitive syntax, especially when using Plotly Express for quick plotting.\n",
    "\n",
    "3. Wide Range of Charts: Supports diverse chart types including scatter plots, bar charts, heatmaps, 3D plots, and maps.\n",
    "\n",
    "4. Integration: Works well with web frameworks (like Dash), Jupyter Notebooks, and Python data tools like Pandas.\n",
    "\n",
    "5. Aesthetic Appeal: Produces visually appealing and professional-looking charts with minimal configuration.\n",
    "\n",
    "6. Export Options: Supports exporting to HTML, PNG, PDF, and SVG formats, making sharing and embedding easy."
   ]
  },
  {
   "cell_type": "raw",
   "id": "6794daa5-ccad-413b-ba51-3cfafcb3b47d",
   "metadata": {},
   "source": [
    "Q.15. How does NumPy handle multidimensional arrays?\n",
    "A.15. NumPy handles multidimensional arrays using its core data structure called the ndarray (n-dimensional array), which can represent arrays of any number of dimensions — from 1D vectors to 2D matrices and higher-dimensional tensors. These arrays are efficient, fast, and support a wide range of operations.\n",
    "\n",
    "NumPy allows easy creation of multidimensional arrays using functions like np.array(), np.zeros(), np.ones(), and np.reshape(). Once created, elements in these arrays can be accessed using multi-indexing (e.g., arr[0, 1]), and operations like slicing, broadcasting, mathematical computation, and aggregation work seamlessly across all dimensions."
   ]
  },
  {
   "cell_type": "raw",
   "id": "ac39b26e-6ffe-4b1d-a457-d9e7e2f438e9",
   "metadata": {},
   "source": [
    "Q.16. What is the role of Bokeh in data visualization?\n",
    "A.16. Bokeh is a powerful Python library for interactive and web-friendly data visualizations, designed to create rich, dynamic plots that can be easily embedded in web applications. Its main role is to enable the building of interactive visual dashboards and plots directly in the browser using JavaScript, without requiring deep knowledge of front-end development."
   ]
  },
  {
   "cell_type": "raw",
   "id": "74c30c2b-b7a9-4661-bdeb-c8ec058e679e",
   "metadata": {},
   "source": [
    "Q.17. Explain the difference between apply() and map() in Pandas.\n",
    "A.17. In Pandas, both apply() and map() are used to apply functions to data, but they differ in their scope and flexibility:\n",
    "\n",
    "map() is used only with Series and is typically applied to each element individually. It is best suited for simple element-wise operations, such as transforming values or mapping them using a dictionary.\n",
    "\n",
    "apply() is more versatile and can be used with both Series and DataFrames. When used on a Series, it behaves similarly to map() but supports more complex functions. When applied to a DataFrame, it can operate along rows or columns (using the axis parameter), allowing for row-wise or column-wise computations."
   ]
  },
  {
   "cell_type": "raw",
   "id": "e27cbf8a-fe5f-4fed-88f8-7ffdb88701be",
   "metadata": {},
   "source": [
    "Q.18. What are some advanced features of NumPy?\n",
    "A.18. Below are mentioned a few advanced features of Numpy:\n",
    "1. Masked Arrays: Support for arrays with missing or invalid entries, using masking to ignore certain elements during computations.\n",
    "\n",
    "2. Structured Arrays: Arrays with fields (like columns in a table), allowing mixed data types and more complex data representations.\n",
    "\n",
    "3. Universal Functions (ufuncs): Fast, element-wise operations implemented in C that include both basic arithmetic and advanced mathematical functions.\n",
    "\n",
    "4. Memory Mapping: Allows reading large datasets from disk as if they were in-memory arrays, useful for working with files too big to fit into RAM.\n",
    "\n",
    "5. Advanced Indexing and Slicing: Includes boolean indexing, fancy indexing, and multi-dimensional slicing for precise data selection.\n",
    "\n",
    "6. Linear Algebra Module: Provides functions for matrix operations, eigenvalues, singular value decomposition (SVD), and more (numpy.linalg)."
   ]
  },
  {
   "cell_type": "raw",
   "id": "00068810-5022-446b-83d6-8781c3bd0e35",
   "metadata": {},
   "source": [
    "Q.19. How does Pandas simplify time series analysis?\n",
    "A.19. Pandas simplifies time series analysis by providing powerful tools specifically designed to handle, manipulate, and analyze date and time data efficiently. It allows easy parsing of dates, resampling of time intervals, and performing operations like time shifting, rolling statistics, and date-based indexing.\n",
    "Key Ways Pandas Simplifies Time Series Analysis:\n",
    "1. DateTime Indexing: Pandas supports DatetimeIndex, which enables fast and intuitive selection, slicing, and filtering based on dates and times.\n",
    "\n",
    "2. Automatic Date Parsing: It can automatically convert strings to datetime objects using pd.to_datetime().\n",
    "\n",
    "3. Resampling: Using .resample(), you can easily convert time series data to different frequencies (e.g., daily to monthly), with built-in aggregation methods like sum, mean, etc.\n",
    "\n",
    "4. Rolling and Expanding Windows: Functions like .rolling() and .expanding() allow computation of moving averages and cumulative statistics."
   ]
  },
  {
   "cell_type": "raw",
   "id": "98cfea58-ecbe-4467-9a17-3572952e6e8c",
   "metadata": {},
   "source": [
    "Q.20. What is the role of a pivot table in Pandas?\n",
    "A.20. A pivot table in Pandas is used to summarize, reorganize, and aggregate data in a DataFrame, making it easier to analyze and interpret complex datasets. It allows you to group data based on one or more categorical variables and apply aggregation functions like sum, mean, or count to numerical data. By transforming data into a compact, tabular format with rows and columns representing different categories, pivot tables help reveal patterns, trends, and relationships within the data. This functionality is especially useful for exploring and comparing subsets of data quickly and efficiently, similar to the pivot tables found in spreadsheet software."
   ]
  },
  {
   "cell_type": "raw",
   "id": "52cdae3d-4ae0-4275-8ea2-6fc0b93b287e",
   "metadata": {},
   "source": [
    "Q.21. Why is NumPy’s array slicing faster than Python’s list slicing?\n",
    "A.21. NumPy’s array slicing is faster than Python’s list slicing because NumPy arrays are stored as contiguous blocks of memory with a fixed data type, allowing slicing to create views on the original data without copying it. In contrast, Python lists are collections of pointers to objects stored non-contiguously in memory, so slicing a list involves creating a new list and copying references to the original objects. This difference means NumPy slicing involves simple pointer arithmetic and efficient memory access, resulting in much faster performance and lower memory overhead compared to Python list slicing."
   ]
  },
  {
   "cell_type": "raw",
   "id": "e6ff875c-2ccc-47c7-a40c-8c29029cc208",
   "metadata": {},
   "source": [
    "Q.22. What are some common use cases for Seaborn?\n",
    "A.22. Some common use cases for Seaborn include creating statistical visualizations that help explore and understand data relationships and distributions. It’s widely used for generating correlation heatmaps to visualize how variables relate to each other, box plots and violin plots to compare distributions across groups, and scatter plots with regression lines to examine trends and patterns. Seaborn’s ability to easily handle categorical variables with color encoding (hue) makes it great for comparing subgroups. It’s also popular for pairplots that show pairwise relationships between multiple variables at once, and for time series visualization with smooth trend lines. Overall, Seaborn simplifies producing attractive, informative graphics for exploratory data analysis and statistical modeling."
   ]
  },
  {
   "cell_type": "raw",
   "id": "ab168ffc-59cc-45a7-9f46-0dde7ddbe3f9",
   "metadata": {},
   "source": []
  },
  {
   "cell_type": "code",
   "execution_count": 3,
   "id": "d18ffdc6-0332-4ca8-84f8-4dac22c3f5e6",
   "metadata": {},
   "outputs": [],
   "source": [
    "###     PRACTICAL QUESTIONS    ###"
   ]
  },
  {
   "cell_type": "code",
   "execution_count": 6,
   "id": "10e32fc9-f017-481c-b343-5010ff6ecf6c",
   "metadata": {},
   "outputs": [
    {
     "name": "stdout",
     "output_type": "stream",
     "text": [
      "[10 26 42]\n"
     ]
    }
   ],
   "source": [
    "#A.1\n",
    "import numpy as np\n",
    "arr1 = np.array([[1, 2, 3, 4],\n",
    "                [5, 6, 7, 8],\n",
    "                [9, 10, 11, 12]])\n",
    "row_sums = np.sum(arr1, axis=1)\n",
    "\n",
    "print(row_sums)"
   ]
  },
  {
   "cell_type": "code",
   "execution_count": 7,
   "id": "1ed4624e-dff6-40e0-aa26-e71cff6d9984",
   "metadata": {},
   "outputs": [
    {
     "name": "stdout",
     "output_type": "stream",
     "text": [
      "Average Age: 27.5\n"
     ]
    }
   ],
   "source": [
    "#A.2.\n",
    "\n",
    "import pandas as pd\n",
    "\n",
    "# Sample DataFrame\n",
    "data = {\n",
    "    'Age': [20, 25, 30, 35],\n",
    "    'Score': [85, 90, 88, 92]\n",
    "}\n",
    "\n",
    "df = pd.DataFrame(data)\n",
    "\n",
    "mean_age = df['Age'].mean()\n",
    "\n",
    "print(\"Average Age:\", mean_age)\n"
   ]
  },
  {
   "cell_type": "code",
   "execution_count": 8,
   "id": "c92362a4-8334-4b2a-9312-cc4f76d14291",
   "metadata": {},
   "outputs": [
    {
     "data": {
      "image/png": "[encoded data removed]",
      "text/plain": [
       "<Figure size 640x480 with 1 Axes>"
      ]
     },
     "metadata": {},
     "output_type": "display_data"
    }
   ],
   "source": [
    "#A.3.\n",
    "\n",
    "import matplotlib.pyplot as plt\n",
    "\n",
    "x = [5, 7, 8, 5, 6, 7, 8, 9, 10]\n",
    "y = [10, 12, 15, 10, 14, 15, 17, 18, 20]\n",
    "\n",
    "plt.scatter(x, y, color='blue', marker='o')\n",
    "\n",
    "plt.title('Sample Scatter Plot')\n",
    "plt.xlabel('X-axis')\n",
    "plt.ylabel('Y-axis')\n",
    "plt.show()"
   ]
  },
  {
   "cell_type": "code",
   "execution_count": 12,
   "id": "b0b10370-3439-4586-8a31-40aafbbbead1",
   "metadata": {},
   "outputs": [
    {
     "data": {
      "image/png": "[encoded data removed]",
      "text/plain": [
       "<Figure size 640x480 with 2 Axes>"
      ]
     },
     "metadata": {},
     "output_type": "display_data"
    }
   ],
   "source": [
    "#A.4.\n",
    "import seaborn as sns\n",
    "\n",
    "data = {\n",
    "    'A': [1, 2, 3, 4, 5],\n",
    "    'B': [5, 4, 3, 2, 1],\n",
    "    'C': [2, 3, 4, 5, 6],\n",
    "    'D': [5, 3, 2, 4, 1]\n",
    "}\n",
    "\n",
    "df = pd.DataFrame(data)\n",
    "corr_matrix = df.corr() # Calculate correlation matrix\n",
    "\n",
    "sns.heatmap(corr_matrix, annot=True, cmap='coolwarm') # Plot heatmap of the correlation matrix\n",
    "plt.title('Correlation Matrix Heatmap')\n",
    "plt.show()"
   ]
  },
  {
   "cell_type": "code",
   "execution_count": 2,
   "id": "d8ab122c-a974-437c-b4ec-6d7044980b46",
   "metadata": {},
   "outputs": [
    {
     "data": {
      "application/vnd.plotly.v1+json": {
       "config": {
        "plotlyServerURL": "https://plot.ly"
       },
       "data": [
        {
         "hovertemplate": "Fruits=%{x}<br>Quantity=%{y}<extra></extra>",
         "legendgroup": "",
         "marker": {
          "color": "#636efa",
          "pattern": {
           "shape": ""
          }
         },
         "name": "",
         "orientation": "v",
         "showlegend": false,
         "textposition": "auto",
         "type": "bar",
         "x": [
          "Apples",
          "Oranges",
          "Bananas",
          "Grapes"
         ],
         "xaxis": "x",
         "y": {
          "bdata": "Cg8HDA==",
          "dtype": "i1"
         },
         "yaxis": "y"
        }
       ],
       "layout": {
        "barmode": "relative",
        "legend": {
         "tracegroupgap": 0
        },
        "template": {
         "data": {
          "bar": [
           {
            "error_x": {
             "color": "#2a3f5f"
            },
            "error_y": {
             "color": "#2a3f5f"
            },
            "marker": {
             "line": {
              "color": "#E5ECF6",
              "width": 0.5
             },
             "pattern": {
              "fillmode": "overlay",
              "size": 10,
              "solidity": 0.2
             }
            },
            "type": "bar"
           }
          ],
          "barpolar": [
           {
            "marker": {
             "line": {
              "color": "#E5ECF6",
              "width": 0.5
             },
             "pattern": {
              "fillmode": "overlay",
              "size": 10,
              "solidity": 0.2
             }
            },
            "type": "barpolar"
           }
          ],
          "carpet": [
           {
            "aaxis": {
             "endlinecolor": "#2a3f5f",
             "gridcolor": "white",
             "linecolor": "white",
             "minorgridcolor": "white",
             "startlinecolor": "#2a3f5f"
            },
            "baxis": {
             "endlinecolor": "#2a3f5f",
             "gridcolor": "white",
             "linecolor": "white",
             "minorgridcolor": "white",
             "startlinecolor": "#2a3f5f"
            },
            "type": "carpet"
           }
          ],
          "choropleth": [
           {
            "colorbar": {
             "outlinewidth": 0,
             "ticks": ""
            },
            "type": "choropleth"
           }
          ],
          "contour": [
           {
            "colorbar": {
             "outlinewidth": 0,
             "ticks": ""
            },
            "colorscale": [
             [
              0,
              "#0d0887"
             ],
             [
              0.1111111111111111,
              "#46039f"
             ],
             [
              0.2222222222222222,
              "#7201a8"
             ],
             [
              0.3333333333333333,
              "#9c179e"
             ],
             [
              0.4444444444444444,
              "#bd3786"
             ],
             [
              0.5555555555555556,
              "#d8576b"
             ],
             [
              0.6666666666666666,
              "#ed7953"
             ],
             [
              0.7777777777777778,
              "#fb9f3a"
             ],
             [
              0.8888888888888888,
              "#fdca26"
             ],
             [
              1,
              "#f0f921"
             ]
            ],
            "type": "contour"
           }
          ],
          "contourcarpet": [
           {
            "colorbar": {
             "outlinewidth": 0,
             "ticks": ""
            },
            "type": "contourcarpet"
           }
          ],
          "heatmap": [
           {
            "colorbar": {
             "outlinewidth": 0,
             "ticks": ""
            },
            "colorscale": [
             [
              0,
              "#0d0887"
             ],
             [
              0.1111111111111111,
              "#46039f"
             ],
             [
              0.2222222222222222,
              "#7201a8"
             ],
             [
              0.3333333333333333,
              "#9c179e"
             ],
             [
              0.4444444444444444,
              "#bd3786"
             ],
             [
              0.5555555555555556,
              "#d8576b"
             ],
             [
              0.6666666666666666,
              "#ed7953"
             ],
             [
              0.7777777777777778,
              "#fb9f3a"
             ],
             [
              0.8888888888888888,
              "#fdca26"
             ],
             [
              1,
              "#f0f921"
             ]
            ],
            "type": "heatmap"
           }
          ],
          "histogram": [
           {
            "marker": {
             "pattern": {
              "fillmode": "overlay",
              "size": 10,
              "solidity": 0.2
             }
            },
            "type": "histogram"
           }
          ],
          "histogram2d": [
           {
            "colorbar": {
             "outlinewidth": 0,
             "ticks": ""
            },
            "colorscale": [
             [
              0,
              "#0d0887"
             ],
             [
              0.1111111111111111,
              "#46039f"
             ],
             [
              0.2222222222222222,
              "#7201a8"
             ],
             [
              0.3333333333333333,
              "#9c179e"
             ],
             [
              0.4444444444444444,
              "#bd3786"
             ],
             [
              0.5555555555555556,
              "#d8576b"
             ],
             [
              0.6666666666666666,
              "#ed7953"
             ],
             [
              0.7777777777777778,
              "#fb9f3a"
             ],
             [
              0.8888888888888888,
              "#fdca26"
             ],
             [
              1,
              "#f0f921"
             ]
            ],
            "type": "histogram2d"
           }
          ],
          "histogram2dcontour": [
           {
            "colorbar": {
             "outlinewidth": 0,
             "ticks": ""
            },
            "colorscale": [
             [
              0,
              "#0d0887"
             ],
             [
              0.1111111111111111,
              "#46039f"
             ],
             [
              0.2222222222222222,
              "#7201a8"
             ],
             [
              0.3333333333333333,
              "#9c179e"
             ],
             [
              0.4444444444444444,
              "#bd3786"
             ],
             [
              0.5555555555555556,
              "#d8576b"
             ],
             [
              0.6666666666666666,
              "#ed7953"
             ],
             [
              0.7777777777777778,
              "#fb9f3a"
             ],
             [
              0.8888888888888888,
              "#fdca26"
             ],
             [
              1,
              "#f0f921"
             ]
            ],
            "type": "histogram2dcontour"
           }
          ],
          "mesh3d": [
           {
            "colorbar": {
             "outlinewidth": 0,
             "ticks": ""
            },
            "type": "mesh3d"
           }
          ],
          "parcoords": [
           {
            "line": {
             "colorbar": {
              "outlinewidth": 0,
              "ticks": ""
             }
            },
            "type": "parcoords"
           }
          ],
          "pie": [
           {
            "automargin": true,
            "type": "pie"
           }
          ],
          "scatter": [
           {
            "fillpattern": {
             "fillmode": "overlay",
             "size": 10,
             "solidity": 0.2
            },
            "type": "scatter"
           }
          ],
          "scatter3d": [
           {
            "line": {
             "colorbar": {
              "outlinewidth": 0,
              "ticks": ""
             }
            },
            "marker": {
             "colorbar": {
              "outlinewidth": 0,
              "ticks": ""
             }
            },
            "type": "scatter3d"
           }
          ],
          "scattercarpet": [
           {
            "marker": {
             "colorbar": {
              "outlinewidth": 0,
              "ticks": ""
             }
            },
            "type": "scattercarpet"
           }
          ],
          "scattergeo": [
           {
            "marker": {
             "colorbar": {
              "outlinewidth": 0,
              "ticks": ""
             }
            },
            "type": "scattergeo"
           }
          ],
          "scattergl": [
           {
            "marker": {
             "colorbar": {
              "outlinewidth": 0,
              "ticks": ""
             }
            },
            "type": "scattergl"
           }
          ],
          "scattermap": [
           {
            "marker": {
             "colorbar": {
              "outlinewidth": 0,
              "ticks": ""
             }
            },
            "type": "scattermap"
           }
          ],
          "scattermapbox": [
           {
            "marker": {
             "colorbar": {
              "outlinewidth": 0,
              "ticks": ""
             }
            },
            "type": "scattermapbox"
           }
          ],
          "scatterpolar": [
           {
            "marker": {
             "colorbar": {
              "outlinewidth": 0,
              "ticks": ""
             }
            },
            "type": "scatterpolar"
           }
          ],
          "scatterpolargl": [
           {
            "marker": {
             "colorbar": {
              "outlinewidth": 0,
              "ticks": ""
             }
            },
            "type": "scatterpolargl"
           }
          ],
          "scatterternary": [
           {
            "marker": {
             "colorbar": {
              "outlinewidth": 0,
              "ticks": ""
             }
            },
            "type": "scatterternary"
           }
          ],
          "surface": [
           {
            "colorbar": {
             "outlinewidth": 0,
             "ticks": ""
            },
            "colorscale": [
             [
              0,
              "#0d0887"
             ],
             [
              0.1111111111111111,
              "#46039f"
             ],
             [
              0.2222222222222222,
              "#7201a8"
             ],
             [
              0.3333333333333333,
              "#9c179e"
             ],
             [
              0.4444444444444444,
              "#bd3786"
             ],
             [
              0.5555555555555556,
              "#d8576b"
             ],
             [
              0.6666666666666666,
              "#ed7953"
             ],
             [
              0.7777777777777778,
              "#fb9f3a"
             ],
             [
              0.8888888888888888,
              "#fdca26"
             ],
             [
              1,
              "#f0f921"
             ]
            ],
            "type": "surface"
           }
          ],
          "table": [
           {
            "cells": {
             "fill": {
              "color": "#EBF0F8"
             },
             "line": {
              "color": "white"
             }
            },
            "header": {
             "fill": {
              "color": "#C8D4E3"
             },
             "line": {
              "color": "white"
             }
            },
            "type": "table"
           }
          ]
         },
         "layout": {
          "annotationdefaults": {
           "arrowcolor": "#2a3f5f",
           "arrowhead": 0,
           "arrowwidth": 1
          },
          "autotypenumbers": "strict",
          "coloraxis": {
           "colorbar": {
            "outlinewidth": 0,
            "ticks": ""
           }
          },
          "colorscale": {
           "diverging": [
            [
             0,
             "#8e0152"
            ],
            [
             0.1,
             "#c51b7d"
            ],
            [
             0.2,
             "#de77ae"
            ],
            [
             0.3,
             "#f1b6da"
            ],
            [
             0.4,
             "#fde0ef"
            ],
            [
             0.5,
             "#f7f7f7"
            ],
            [
             0.6,
             "#e6f5d0"
            ],
            [
             0.7,
             "#b8e186"
            ],
            [
             0.8,
             "#7fbc41"
            ],
            [
             0.9,
             "#4d9221"
            ],
            [
             1,
             "#276419"
            ]
           ],
           "sequential": [
            [
             0,
             "#0d0887"
            ],
            [
             0.1111111111111111,
             "#46039f"
            ],
            [
             0.2222222222222222,
             "#7201a8"
            ],
            [
             0.3333333333333333,
             "#9c179e"
            ],
            [
             0.4444444444444444,
             "#bd3786"
            ],
            [
             0.5555555555555556,
             "#d8576b"
            ],
            [
             0.6666666666666666,
             "#ed7953"
            ],
            [
             0.7777777777777778,
             "#fb9f3a"
            ],
            [
             0.8888888888888888,
             "#fdca26"
            ],
            [
             1,
             "#f0f921"
            ]
           ],
           "sequentialminus": [
            [
             0,
             "#0d0887"
            ],
            [
             0.1111111111111111,
             "#46039f"
            ],
            [
             0.2222222222222222,
             "#7201a8"
            ],
            [
             0.3333333333333333,
             "#9c179e"
            ],
            [
             0.4444444444444444,
             "#bd3786"
            ],
            [
             0.5555555555555556,
             "#d8576b"
            ],
            [
             0.6666666666666666,
             "#ed7953"
            ],
            [
             0.7777777777777778,
             "#fb9f3a"
            ],
            [
             0.8888888888888888,
             "#fdca26"
            ],
            [
             1,
             "#f0f921"
            ]
           ]
          },
          "colorway": [
           "#636efa",
           "#EF553B",
           "#00cc96",
           "#ab63fa",
           "#FFA15A",
           "#19d3f3",
           "#FF6692",
           "#B6E880",
           "#FF97FF",
           "#FECB52"
          ],
          "font": {
           "color": "#2a3f5f"
          },
          "geo": {
           "bgcolor": "white",
           "lakecolor": "white",
           "landcolor": "#E5ECF6",
           "showlakes": true,
           "showland": true,
           "subunitcolor": "white"
          },
          "hoverlabel": {
           "align": "left"
          },
          "hovermode": "closest",
          "mapbox": {
           "style": "light"
          },
          "paper_bgcolor": "white",
          "plot_bgcolor": "#E5ECF6",
          "polar": {
           "angularaxis": {
            "gridcolor": "white",
            "linecolor": "white",
            "ticks": ""
           },
           "bgcolor": "#E5ECF6",
           "radialaxis": {
            "gridcolor": "white",
            "linecolor": "white",
            "ticks": ""
           }
          },
          "scene": {
           "xaxis": {
            "backgroundcolor": "#E5ECF6",
            "gridcolor": "white",
            "gridwidth": 2,
            "linecolor": "white",
            "showbackground": true,
            "ticks": "",
            "zerolinecolor": "white"
           },
           "yaxis": {
            "backgroundcolor": "#E5ECF6",
            "gridcolor": "white",
            "gridwidth": 2,
            "linecolor": "white",
            "showbackground": true,
            "ticks": "",
            "zerolinecolor": "white"
           },
           "zaxis": {
            "backgroundcolor": "#E5ECF6",
            "gridcolor": "white",
            "gridwidth": 2,
            "linecolor": "white",
            "showbackground": true,
            "ticks": "",
            "zerolinecolor": "white"
           }
          },
          "shapedefaults": {
           "line": {
            "color": "#2a3f5f"
           }
          },
          "ternary": {
           "aaxis": {
            "gridcolor": "white",
            "linecolor": "white",
            "ticks": ""
           },
           "baxis": {
            "gridcolor": "white",
            "linecolor": "white",
            "ticks": ""
           },
           "bgcolor": "#E5ECF6",
           "caxis": {
            "gridcolor": "white",
            "linecolor": "white",
            "ticks": ""
           }
          },
          "title": {
           "x": 0.05
          },
          "xaxis": {
           "automargin": true,
           "gridcolor": "white",
           "linecolor": "white",
           "ticks": "",
           "title": {
            "standoff": 15
           },
           "zerolinecolor": "white",
           "zerolinewidth": 2
          },
          "yaxis": {
           "automargin": true,
           "gridcolor": "white",
           "linecolor": "white",
           "ticks": "",
           "title": {
            "standoff": 15
           },
           "zerolinecolor": "white",
           "zerolinewidth": 2
          }
         }
        },
        "title": {
         "text": "Fruit Quantity"
        },
        "xaxis": {
         "anchor": "y",
         "domain": [
          0,
          1
         ],
         "title": {
          "text": "Fruits"
         }
        },
        "yaxis": {
         "anchor": "x",
         "domain": [
          0,
          1
         ],
         "title": {
          "text": "Quantity"
         }
        }
       }
      }
     },
     "metadata": {},
     "output_type": "display_data"
    }
   ],
   "source": [
    "#A.5.\n",
    "\n",
    "import plotly.express as px\n",
    "\n",
    "data = {\n",
    "    'Fruits': ['Apples', 'Oranges', 'Bananas', 'Grapes'],\n",
    "    'Quantity': [10, 15, 7, 12]\n",
    "}\n",
    "\n",
    "fig = px.bar(data, x='Fruits', y='Quantity', title='Fruit Quantity')\n",
    "\n",
    "fig.show()"
   ]
  },
  {
   "cell_type": "code",
   "execution_count": 6,
   "id": "c35f0286-56e7-4fcf-bf17-ab8576cb60a6",
   "metadata": {},
   "outputs": [
    {
     "name": "stdout",
     "output_type": "stream",
     "text": [
      "   Price  Discounted_Price\n",
      "0    100              90.0\n",
      "1    150             135.0\n",
      "2    200             180.0\n",
      "3    250             225.0\n",
      "4    300             270.0\n"
     ]
    }
   ],
   "source": [
    "#A.6.\n",
    "import pandas as pd\n",
    "data1 = {\n",
    "    'Price': [100, 150, 200, 250, 300]\n",
    "}\n",
    "df = pd.DataFrame(data1)\n",
    "\n",
    "# Add a new column 'Discounted_Price' which is 10% less than 'Price'\n",
    "df['Discounted_Price'] = df['Price'] * 0.9\n",
    "\n",
    "print(df)"
   ]
  },
  {
   "cell_type": "code",
   "execution_count": null,
   "id": "9b1f4970-4572-4f7f-a815-0364731814a6",
   "metadata": {},
   "outputs": [],
   "source": [
    "\n"
   ]
  },
  {
   "cell_type": "code",
   "execution_count": 8,
   "id": "fe5e2cb7-58f6-413d-82ba-4f554b7a986d",
   "metadata": {},
   "outputs": [
    {
     "name": "stdout",
     "output_type": "stream",
     "text": [
      "[ 5 12 21 32]\n"
     ]
    }
   ],
   "source": [
    "#A.7.\n",
    "import numpy as np\n",
    "arr1 = np.array([1, 2, 3, 4])\n",
    "arr2 = np.array([5, 6, 7, 8])\n",
    "\n",
    "# Element-wise multiplication\n",
    "result = arr1 * arr2\n",
    "\n",
    "print(result)"
   ]
  },
  {
   "cell_type": "code",
   "execution_count": 9,
   "id": "c34ac7b3-afbe-4572-a1a8-e88ce3e7534d",
   "metadata": {},
   "outputs": [
    {
     "data": {
      "image/png": "[encoded data removed]",
      "text/plain": [
       "<Figure size 640x480 with 1 Axes>"
      ]
     },
     "metadata": {},
     "output_type": "display_data"
    }
   ],
   "source": [
    "#A.8.\n",
    "\n",
    "import matplotlib.pyplot as plt\n",
    "\n",
    "x = [1, 2, 3, 4, 5]\n",
    "\n",
    "y1 = [2, 3, 5, 7, 11]\n",
    "y2 = [1, 4, 6, 8, 10]\n",
    "\n",
    "# Plot multiple lines\n",
    "plt.plot(x, y1, label='Line 1', marker='o')\n",
    "plt.plot(x, y2, label='Line 2', marker='s')\n",
    "\n",
    "plt.title('Multiple Line Plot')\n",
    "plt.xlabel('X-axis')\n",
    "plt.ylabel('Y-axis')\n",
    "\n",
    "plt.legend()\n",
    "\n",
    "# Display the plot\n",
    "plt.show()\n"
   ]
  },
  {
   "cell_type": "code",
   "execution_count": 10,
   "id": "6c4db490-0844-4460-9b31-c1eee8db8e32",
   "metadata": {},
   "outputs": [
    {
     "name": "stdout",
     "output_type": "stream",
     "text": [
      "   Age  Score\n",
      "1   30     90\n",
      "3   35     92\n"
     ]
    }
   ],
   "source": [
    "#A.9. \n",
    "\n",
    "import pandas as pd\n",
    "\n",
    "data = {\n",
    "    'Age': [24, 30, 22, 35],\n",
    "    'Score': [85, 90, 78, 92]\n",
    "}\n",
    "\n",
    "df = pd.DataFrame(data)\n",
    "\n",
    "filtered_df = df[df['Age'] > 25]\n",
    "\n",
    "print(filtered_df)\n"
   ]
  },
  {
   "cell_type": "code",
   "execution_count": 11,
   "id": "bf5b2ce1-ec2f-476c-ab0c-8fb1e30c053a",
   "metadata": {},
   "outputs": [
    {
     "data": {
      "image/png": "[encoded data removed]",
      "text/plain": [
       "<Figure size 640x480 with 1 Axes>"
      ]
     },
     "metadata": {},
     "output_type": "display_data"
    }
   ],
   "source": [
    "#A.10.\n",
    "\n",
    "import seaborn as sns\n",
    "import matplotlib.pyplot as plt\n",
    "\n",
    "data = [12, 15, 13, 17, 19, 18, 15, 14, 16, 20, 22, 21, 23, 25, 24]\n",
    "\n",
    "sns.histplot(data, bins=5, kde=False, color='skyblue')\n",
    "\n",
    "plt.title('Histogram of Sample Data')\n",
    "plt.xlabel('Value')\n",
    "plt.ylabel('Frequency')\n",
    "\n",
    "plt.show()\n"
   ]
  },
  {
   "cell_type": "code",
   "execution_count": 12,
   "id": "ec24a804-7d0a-405a-a70c-33ce1e78263f",
   "metadata": {},
   "outputs": [
    {
     "name": "stdout",
     "output_type": "stream",
     "text": [
      "[[19 22]\n",
      " [43 50]]\n"
     ]
    }
   ],
   "source": [
    "#A.11.\n",
    "\n",
    "import numpy as np\n",
    "\n",
    "A = np.array([[1, 2],\n",
    "              [3, 4]])\n",
    "\n",
    "B = np.array([[5, 6],\n",
    "              [7, 8]])\n",
    "\n",
    "result = np.matmul(A, B)\n",
    "\n",
    "print(result)\n"
   ]
  },
  {
   "cell_type": "code",
   "execution_count": 15,
   "id": "3f5a72a2-d2e5-4bd6-aa3f-ab5185fb46d9",
   "metadata": {},
   "outputs": [
    {
     "name": "stdout",
     "output_type": "stream",
     "text": [
      "   id  location_id  program_id accepted_payments alternate_name  \\\n",
      "0   1            1         NaN               NaN            NaN   \n",
      "1   2            2         NaN               NaN            NaN   \n",
      "2   3            3         NaN               NaN            NaN   \n",
      "3   4            4         NaN               NaN            NaN   \n",
      "4   5            5         NaN               NaN            NaN   \n",
      "\n",
      "                           application_process  \\\n",
      "0                   Walk in or apply by phone.   \n",
      "1           Apply by phone for an appointment.   \n",
      "2  Phone for information (403-4300 Ext. 4322).   \n",
      "3                              Apply by phone.   \n",
      "4                       Phone for information.   \n",
      "\n",
      "                                            audience  \\\n",
      "0  Older adults age 55 or over, ethnic minorities...   \n",
      "1       Residents of San Mateo County age 55 or over   \n",
      "2  Older adults age 55 or over who can benefit fr...   \n",
      "3  Parents, children, families with problems of c...   \n",
      "4  Low-income working families with children tran...   \n",
      "\n",
      "                                         description  \\\n",
      "0  A walk-in center for older adults that provide...   \n",
      "1  Provides training and job placement to eligibl...   \n",
      "2  Offers supportive counseling services to San M...   \n",
      "3  Provides supervised visitation services and a ...   \n",
      "4  Provides fixed 8% short term loans to eligible...   \n",
      "\n",
      "                                         eligibility email  ...  \\\n",
      "0  Age 55 or over for most programs, age 60 or ov...   NaN  ...   \n",
      "1  Age 55 or over, county resident and willing an...   NaN  ...   \n",
      "2        Resident of San Mateo County age 55 or over   NaN  ...   \n",
      "3                                                NaN   NaN  ...   \n",
      "4  Eligibility: Low-income family with legal cust...   NaN  ...   \n",
      "\n",
      "  interpretation_services                                           keywords  \\\n",
      "0                     NaN  ADULT PROTECTION AND CARE SERVICES, Meal Sites...   \n",
      "1                     NaN  EMPLOYMENT/TRAINING SERVICES, Job Development,...   \n",
      "2                     NaN  Geriatric Counseling, Older Adults, Gay, Lesbi...   \n",
      "3                     NaN  INDIVIDUAL AND FAMILY DEVELOPMENT SERVICES, Gr...   \n",
      "4                     NaN     COMMUNITY SERVICES, Speakers, Automobile Loans   \n",
      "\n",
      "  languages                               name required_documents  \\\n",
      "0       NaN    Fair Oaks Adult Activity Center                NaN   \n",
      "1       NaN   Second Career Employment Program                NaN   \n",
      "2       NaN             Senior Peer Counseling                NaN   \n",
      "3       NaN           Family Visitation Center                NaN   \n",
      "4       NaN  Economic Self-Sufficiency Program                NaN   \n",
      "\n",
      "      service_areas  status wait_time website taxonomy_ids  \n",
      "0             Colma  active  No wait.     NaN          NaN  \n",
      "1  San Mateo County  active   Varies.     NaN          NaN  \n",
      "2  San Mateo County  active   Varies.     NaN          NaN  \n",
      "3  San Mateo County  active  No wait.     NaN          NaN  \n",
      "4  San Mateo County  active       NaN     NaN          NaN  \n",
      "\n",
      "[5 rows x 22 columns]\n"
     ]
    }
   ],
   "source": [
    "#A.12.\n",
    "\n",
    "\n",
    "import pandas as pd\n",
    "\n",
    "df = pd.read_csv('services.csv')\n",
    "\n",
    "print(df.head())"
   ]
  },
  {
   "cell_type": "code",
   "execution_count": 16,
   "id": "d81961e7-9595-4f51-aeb5-3459f76f320e",
   "metadata": {},
   "outputs": [
    {
     "data": {
      "application/vnd.plotly.v1+json": {
       "config": {
        "plotlyServerURL": "https://plot.ly"
       },
       "data": [
        {
         "hovertemplate": "category=A<br>x=%{x}<br>y=%{y}<br>z=%{z}<extra></extra>",
         "legendgroup": "A",
         "marker": {
          "color": "#636efa",
          "symbol": "circle"
         },
         "mode": "markers",
         "name": "A",
         "scene": "scene",
         "showlegend": true,
         "type": "scatter3d",
         "x": {
          "bdata": "AQMF",
          "dtype": "i1"
         },
         "y": {
          "bdata": "CgwO",
          "dtype": "i1"
         },
         "z": {
          "bdata": "BQcJ",
          "dtype": "i1"
         }
        },
        {
         "hovertemplate": "category=B<br>x=%{x}<br>y=%{y}<br>z=%{z}<extra></extra>",
         "legendgroup": "B",
         "marker": {
          "color": "#EF553B",
          "symbol": "circle"
         },
         "mode": "markers",
         "name": "B",
         "scene": "scene",
         "showlegend": true,
         "type": "scatter3d",
         "x": {
          "bdata": "AgQ=",
          "dtype": "i1"
         },
         "y": {
          "bdata": "Cw0=",
          "dtype": "i1"
         },
         "z": {
          "bdata": "Bgg=",
          "dtype": "i1"
         }
        }
       ],
       "layout": {
        "legend": {
         "title": {
          "text": "category"
         },
         "tracegroupgap": 0
        },
        "scene": {
         "domain": {
          "x": [
           0,
           1
          ],
          "y": [
           0,
           1
          ]
         },
         "xaxis": {
          "title": {
           "text": "x"
          }
         },
         "yaxis": {
          "title": {
           "text": "y"
          }
         },
         "zaxis": {
          "title": {
           "text": "z"
          }
         }
        },
        "template": {
         "data": {
          "bar": [
           {
            "error_x": {
             "color": "#2a3f5f"
            },
            "error_y": {
             "color": "#2a3f5f"
            },
            "marker": {
             "line": {
              "color": "#E5ECF6",
              "width": 0.5
             },
             "pattern": {
              "fillmode": "overlay",
              "size": 10,
              "solidity": 0.2
             }
            },
            "type": "bar"
           }
          ],
          "barpolar": [
           {
            "marker": {
             "line": {
              "color": "#E5ECF6",
              "width": 0.5
             },
             "pattern": {
              "fillmode": "overlay",
              "size": 10,
              "solidity": 0.2
             }
            },
            "type": "barpolar"
           }
          ],
          "carpet": [
           {
            "aaxis": {
             "endlinecolor": "#2a3f5f",
             "gridcolor": "white",
             "linecolor": "white",
             "minorgridcolor": "white",
             "startlinecolor": "#2a3f5f"
            },
            "baxis": {
             "endlinecolor": "#2a3f5f",
             "gridcolor": "white",
             "linecolor": "white",
             "minorgridcolor": "white",
             "startlinecolor": "#2a3f5f"
            },
            "type": "carpet"
           }
          ],
          "choropleth": [
           {
            "colorbar": {
             "outlinewidth": 0,
             "ticks": ""
            },
            "type": "choropleth"
           }
          ],
          "contour": [
           {
            "colorbar": {
             "outlinewidth": 0,
             "ticks": ""
            },
            "colorscale": [
             [
              0,
              "#0d0887"
             ],
             [
              0.1111111111111111,
              "#46039f"
             ],
             [
              0.2222222222222222,
              "#7201a8"
             ],
             [
              0.3333333333333333,
              "#9c179e"
             ],
             [
              0.4444444444444444,
              "#bd3786"
             ],
             [
              0.5555555555555556,
              "#d8576b"
             ],
             [
              0.6666666666666666,
              "#ed7953"
             ],
             [
              0.7777777777777778,
              "#fb9f3a"
             ],
             [
              0.8888888888888888,
              "#fdca26"
             ],
             [
              1,
              "#f0f921"
             ]
            ],
            "type": "contour"
           }
          ],
          "contourcarpet": [
           {
            "colorbar": {
             "outlinewidth": 0,
             "ticks": ""
            },
            "type": "contourcarpet"
           }
          ],
          "heatmap": [
           {
            "colorbar": {
             "outlinewidth": 0,
             "ticks": ""
            },
            "colorscale": [
             [
              0,
              "#0d0887"
             ],
             [
              0.1111111111111111,
              "#46039f"
             ],
             [
              0.2222222222222222,
              "#7201a8"
             ],
             [
              0.3333333333333333,
              "#9c179e"
             ],
             [
              0.4444444444444444,
              "#bd3786"
             ],
             [
              0.5555555555555556,
              "#d8576b"
             ],
             [
              0.6666666666666666,
              "#ed7953"
             ],
             [
              0.7777777777777778,
              "#fb9f3a"
             ],
             [
              0.8888888888888888,
              "#fdca26"
             ],
             [
              1,
              "#f0f921"
             ]
            ],
            "type": "heatmap"
           }
          ],
          "histogram": [
           {
            "marker": {
             "pattern": {
              "fillmode": "overlay",
              "size": 10,
              "solidity": 0.2
             }
            },
            "type": "histogram"
           }
          ],
          "histogram2d": [
           {
            "colorbar": {
             "outlinewidth": 0,
             "ticks": ""
            },
            "colorscale": [
             [
              0,
              "#0d0887"
             ],
             [
              0.1111111111111111,
              "#46039f"
             ],
             [
              0.2222222222222222,
              "#7201a8"
             ],
             [
              0.3333333333333333,
              "#9c179e"
             ],
             [
              0.4444444444444444,
              "#bd3786"
             ],
             [
              0.5555555555555556,
              "#d8576b"
             ],
             [
              0.6666666666666666,
              "#ed7953"
             ],
             [
              0.7777777777777778,
              "#fb9f3a"
             ],
             [
              0.8888888888888888,
              "#fdca26"
             ],
             [
              1,
              "#f0f921"
             ]
            ],
            "type": "histogram2d"
           }
          ],
          "histogram2dcontour": [
           {
            "colorbar": {
             "outlinewidth": 0,
             "ticks": ""
            },
            "colorscale": [
             [
              0,
              "#0d0887"
             ],
             [
              0.1111111111111111,
              "#46039f"
             ],
             [
              0.2222222222222222,
              "#7201a8"
             ],
             [
              0.3333333333333333,
              "#9c179e"
             ],
             [
              0.4444444444444444,
              "#bd3786"
             ],
             [
              0.5555555555555556,
              "#d8576b"
             ],
             [
              0.6666666666666666,
              "#ed7953"
             ],
             [
              0.7777777777777778,
              "#fb9f3a"
             ],
             [
              0.8888888888888888,
              "#fdca26"
             ],
             [
              1,
              "#f0f921"
             ]
            ],
            "type": "histogram2dcontour"
           }
          ],
          "mesh3d": [
           {
            "colorbar": {
             "outlinewidth": 0,
             "ticks": ""
            },
            "type": "mesh3d"
           }
          ],
          "parcoords": [
           {
            "line": {
             "colorbar": {
              "outlinewidth": 0,
              "ticks": ""
             }
            },
            "type": "parcoords"
           }
          ],
          "pie": [
           {
            "automargin": true,
            "type": "pie"
           }
          ],
          "scatter": [
           {
            "fillpattern": {
             "fillmode": "overlay",
             "size": 10,
             "solidity": 0.2
            },
            "type": "scatter"
           }
          ],
          "scatter3d": [
           {
            "line": {
             "colorbar": {
              "outlinewidth": 0,
              "ticks": ""
             }
            },
            "marker": {
             "colorbar": {
              "outlinewidth": 0,
              "ticks": ""
             }
            },
            "type": "scatter3d"
           }
          ],
          "scattercarpet": [
           {
            "marker": {
             "colorbar": {
              "outlinewidth": 0,
              "ticks": ""
             }
            },
            "type": "scattercarpet"
           }
          ],
          "scattergeo": [
           {
            "marker": {
             "colorbar": {
              "outlinewidth": 0,
              "ticks": ""
             }
            },
            "type": "scattergeo"
           }
          ],
          "scattergl": [
           {
            "marker": {
             "colorbar": {
              "outlinewidth": 0,
              "ticks": ""
             }
            },
            "type": "scattergl"
           }
          ],
          "scattermap": [
           {
            "marker": {
             "colorbar": {
              "outlinewidth": 0,
              "ticks": ""
             }
            },
            "type": "scattermap"
           }
          ],
          "scattermapbox": [
           {
            "marker": {
             "colorbar": {
              "outlinewidth": 0,
              "ticks": ""
             }
            },
            "type": "scattermapbox"
           }
          ],
          "scatterpolar": [
           {
            "marker": {
             "colorbar": {
              "outlinewidth": 0,
              "ticks": ""
             }
            },
            "type": "scatterpolar"
           }
          ],
          "scatterpolargl": [
           {
            "marker": {
             "colorbar": {
              "outlinewidth": 0,
              "ticks": ""
             }
            },
            "type": "scatterpolargl"
           }
          ],
          "scatterternary": [
           {
            "marker": {
             "colorbar": {
              "outlinewidth": 0,
              "ticks": ""
             }
            },
            "type": "scatterternary"
           }
          ],
          "surface": [
           {
            "colorbar": {
             "outlinewidth": 0,
             "ticks": ""
            },
            "colorscale": [
             [
              0,
              "#0d0887"
             ],
             [
              0.1111111111111111,
              "#46039f"
             ],
             [
              0.2222222222222222,
              "#7201a8"
             ],
             [
              0.3333333333333333,
              "#9c179e"
             ],
             [
              0.4444444444444444,
              "#bd3786"
             ],
             [
              0.5555555555555556,
              "#d8576b"
             ],
             [
              0.6666666666666666,
              "#ed7953"
             ],
             [
              0.7777777777777778,
              "#fb9f3a"
             ],
             [
              0.8888888888888888,
              "#fdca26"
             ],
             [
              1,
              "#f0f921"
             ]
            ],
            "type": "surface"
           }
          ],
          "table": [
           {
            "cells": {
             "fill": {
              "color": "#EBF0F8"
             },
             "line": {
              "color": "white"
             }
            },
            "header": {
             "fill": {
              "color": "#C8D4E3"
             },
             "line": {
              "color": "white"
             }
            },
            "type": "table"
           }
          ]
         },
         "layout": {
          "annotationdefaults": {
           "arrowcolor": "#2a3f5f",
           "arrowhead": 0,
           "arrowwidth": 1
          },
          "autotypenumbers": "strict",
          "coloraxis": {
           "colorbar": {
            "outlinewidth": 0,
            "ticks": ""
           }
          },
          "colorscale": {
           "diverging": [
            [
             0,
             "#8e0152"
            ],
            [
             0.1,
             "#c51b7d"
            ],
            [
             0.2,
             "#de77ae"
            ],
            [
             0.3,
             "#f1b6da"
            ],
            [
             0.4,
             "#fde0ef"
            ],
            [
             0.5,
             "#f7f7f7"
            ],
            [
             0.6,
             "#e6f5d0"
            ],
            [
             0.7,
             "#b8e186"
            ],
            [
             0.8,
             "#7fbc41"
            ],
            [
             0.9,
             "#4d9221"
            ],
            [
             1,
             "#276419"
            ]
           ],
           "sequential": [
            [
             0,
             "#0d0887"
            ],
            [
             0.1111111111111111,
             "#46039f"
            ],
            [
             0.2222222222222222,
             "#7201a8"
            ],
            [
             0.3333333333333333,
             "#9c179e"
            ],
            [
             0.4444444444444444,
             "#bd3786"
            ],
            [
             0.5555555555555556,
             "#d8576b"
            ],
            [
             0.6666666666666666,
             "#ed7953"
            ],
            [
             0.7777777777777778,
             "#fb9f3a"
            ],
            [
             0.8888888888888888,
             "#fdca26"
            ],
            [
             1,
             "#f0f921"
            ]
           ],
           "sequentialminus": [
            [
             0,
             "#0d0887"
            ],
            [
             0.1111111111111111,
             "#46039f"
            ],
            [
             0.2222222222222222,
             "#7201a8"
            ],
            [
             0.3333333333333333,
             "#9c179e"
            ],
            [
             0.4444444444444444,
             "#bd3786"
            ],
            [
             0.5555555555555556,
             "#d8576b"
            ],
            [
             0.6666666666666666,
             "#ed7953"
            ],
            [
             0.7777777777777778,
             "#fb9f3a"
            ],
            [
             0.8888888888888888,
             "#fdca26"
            ],
            [
             1,
             "#f0f921"
            ]
           ]
          },
          "colorway": [
           "#636efa",
           "#EF553B",
           "#00cc96",
           "#ab63fa",
           "#FFA15A",
           "#19d3f3",
           "#FF6692",
           "#B6E880",
           "#FF97FF",
           "#FECB52"
          ],
          "font": {
           "color": "#2a3f5f"
          },
          "geo": {
           "bgcolor": "white",
           "lakecolor": "white",
           "landcolor": "#E5ECF6",
           "showlakes": true,
           "showland": true,
           "subunitcolor": "white"
          },
          "hoverlabel": {
           "align": "left"
          },
          "hovermode": "closest",
          "mapbox": {
           "style": "light"
          },
          "paper_bgcolor": "white",
          "plot_bgcolor": "#E5ECF6",
          "polar": {
           "angularaxis": {
            "gridcolor": "white",
            "linecolor": "white",
            "ticks": ""
           },
           "bgcolor": "#E5ECF6",
           "radialaxis": {
            "gridcolor": "white",
            "linecolor": "white",
            "ticks": ""
           }
          },
          "scene": {
           "xaxis": {
            "backgroundcolor": "#E5ECF6",
            "gridcolor": "white",
            "gridwidth": 2,
            "linecolor": "white",
            "showbackground": true,
            "ticks": "",
            "zerolinecolor": "white"
           },
           "yaxis": {
            "backgroundcolor": "#E5ECF6",
            "gridcolor": "white",
            "gridwidth": 2,
            "linecolor": "white",
            "showbackground": true,
            "ticks": "",
            "zerolinecolor": "white"
           },
           "zaxis": {
            "backgroundcolor": "#E5ECF6",
            "gridcolor": "white",
            "gridwidth": 2,
            "linecolor": "white",
            "showbackground": true,
            "ticks": "",
            "zerolinecolor": "white"
           }
          },
          "shapedefaults": {
           "line": {
            "color": "#2a3f5f"
           }
          },
          "ternary": {
           "aaxis": {
            "gridcolor": "white",
            "linecolor": "white",
            "ticks": ""
           },
           "baxis": {
            "gridcolor": "white",
            "linecolor": "white",
            "ticks": ""
           },
           "bgcolor": "#E5ECF6",
           "caxis": {
            "gridcolor": "white",
            "linecolor": "white",
            "ticks": ""
           }
          },
          "title": {
           "x": 0.05
          },
          "xaxis": {
           "automargin": true,
           "gridcolor": "white",
           "linecolor": "white",
           "ticks": "",
           "title": {
            "standoff": 15
           },
           "zerolinecolor": "white",
           "zerolinewidth": 2
          },
          "yaxis": {
           "automargin": true,
           "gridcolor": "white",
           "linecolor": "white",
           "ticks": "",
           "title": {
            "standoff": 15
           },
           "zerolinecolor": "white",
           "zerolinewidth": 2
          }
         }
        },
        "title": {
         "text": "3D Scatter Plot"
        }
       }
      },
      "image/png": "[encoded data removed]"
     },
     "metadata": {},
     "output_type": "display_data"
    }
   ],
   "source": [
    "#A.13.\n",
    "\n",
    "import plotly.express as px\n",
    "import pandas as pd\n",
    "\n",
    "data = {\n",
    "    'x': [1, 2, 3, 4, 5],\n",
    "    'y': [10, 11, 12, 13, 14],\n",
    "    'z': [5, 6, 7, 8, 9],\n",
    "    'category': ['A', 'B', 'A', 'B', 'A']\n",
    "}\n",
    "\n",
    "df = pd.DataFrame(data)\n",
    "\n",
    "fig = px.scatter_3d(df, x='x', y='y', z='z', color='category', title='3D Scatter Plot')\n",
    "fig.show()\n"
   ]
  },
  {
   "cell_type": "code",
   "execution_count": null,
   "id": "a60c8033-a089-49da-ad5f-b3c3a7017cc7",
   "metadata": {},
   "outputs": [],
   "source": []
  }
 ],
 "metadata": {
  "kernelspec": {
   "display_name": "Python 3 (ipykernel)",
   "language": "python",
   "name": "python3"
  },
  "language_info": {
   "codemirror_mode": {
    "name": "ipython",
    "version": 3
   },
   "file_extension": ".py",
   "mimetype": "text/x-python",
   "name": "python",
   "nbconvert_exporter": "python",
   "pygments_lexer": "ipython3",
   "version": "3.13.2"
  }
 },
 "nbformat": 4,
 "nbformat_minor": 5
}
